{
 "cells": [
  {
   "cell_type": "markdown",
   "metadata": {},
   "source": [
    "# Modeling for Powerlifting Dataset"
   ]
  },
  {
   "cell_type": "markdown",
   "metadata": {},
   "source": [
    "The cells below read in the data and import the libraries to assist with the analysis."
   ]
  },
  {
   "cell_type": "code",
   "execution_count": 1,
   "metadata": {},
   "outputs": [],
   "source": [
    "import numpy as np\n",
    "import pandas as pd\n",
    "import seaborn as sns\n",
    "import matplotlib.pyplot as plt\n",
    "%matplotlib inline\n",
    "from sklearn.model_selection import train_test_split\n",
    "from sklearn.linear_model import LinearRegression\n",
    "from sklearn import metrics\n",
    "from sklearn.neighbors import KNeighborsClassifier\n",
    "from sklearn import model_selection\n",
    "from sklearn.model_selection import cross_val_score\n",
    "from sklearn.linear_model import LogisticRegression\n",
    "from sklearn.tree import DecisionTreeRegressor\n",
    "from sklearn.ensemble import RandomForestRegressor\n",
    "from sklearn.model_selection import KFold\n",
    "from sklearn.feature_selection import SelectFromModel"
   ]
  },
  {
   "cell_type": "code",
   "execution_count": 2,
   "metadata": {},
   "outputs": [],
   "source": [
    "data1 = './data_powerlifting/openpowerlifting.csv'\n",
    "data2 = './data_powerlifting/meets.csv'\n",
    "powerlift = pd.read_table(data1, sep=',')\n",
    "meets = pd.read_table(data2, sep=',')\n",
    "powerlift_meets = pd.merge(powerlift, meets)\n",
    "power = powerlift_meets"
   ]
  },
  {
   "cell_type": "markdown",
   "metadata": {},
   "source": [
    "The cell below repaces the names of the columns to be lowercase for easier coding during the analysis"
   ]
  },
  {
   "cell_type": "code",
   "execution_count": 3,
   "metadata": {},
   "outputs": [],
   "source": [
    "powerlift.rename(str.lower, axis='columns', inplace = True)"
   ]
  },
  {
   "cell_type": "code",
   "execution_count": 4,
   "metadata": {},
   "outputs": [
    {
     "data": {
      "text/plain": [
       "(96753, 12)"
      ]
     },
     "execution_count": 4,
     "metadata": {},
     "output_type": "execute_result"
    }
   ],
   "source": [
    "powerlift.drop(['squat4kg', 'bench4kg', 'deadlift4kg','meetid','name'], axis=1, inplace=True)\n",
    "powerlift.dropna(inplace=True)\n",
    "powerlift.shape"
   ]
  },
  {
   "cell_type": "markdown",
   "metadata": {},
   "source": [
    "**Removed all rows with missing data to clean up dataset**"
   ]
  },
  {
   "cell_type": "code",
   "execution_count": 5,
   "metadata": {},
   "outputs": [
    {
     "data": {
      "text/html": [
       "<div>\n",
       "<style scoped>\n",
       "    .dataframe tbody tr th:only-of-type {\n",
       "        vertical-align: middle;\n",
       "    }\n",
       "\n",
       "    .dataframe tbody tr th {\n",
       "        vertical-align: top;\n",
       "    }\n",
       "\n",
       "    .dataframe thead th {\n",
       "        text-align: right;\n",
       "    }\n",
       "</style>\n",
       "<table border=\"1\" class=\"dataframe\">\n",
       "  <thead>\n",
       "    <tr style=\"text-align: right;\">\n",
       "      <th></th>\n",
       "      <th>sex</th>\n",
       "      <th>equipment</th>\n",
       "      <th>age</th>\n",
       "      <th>division</th>\n",
       "      <th>bodyweightkg</th>\n",
       "      <th>weightclasskg</th>\n",
       "      <th>bestsquatkg</th>\n",
       "      <th>bestbenchkg</th>\n",
       "      <th>bestdeadliftkg</th>\n",
       "      <th>totalkg</th>\n",
       "      <th>place</th>\n",
       "      <th>wilks</th>\n",
       "    </tr>\n",
       "  </thead>\n",
       "  <tbody>\n",
       "    <tr>\n",
       "      <th>0</th>\n",
       "      <td>F</td>\n",
       "      <td>Wraps</td>\n",
       "      <td>47.0</td>\n",
       "      <td>Mst 45-49</td>\n",
       "      <td>59.60</td>\n",
       "      <td>60</td>\n",
       "      <td>47.63</td>\n",
       "      <td>20.41</td>\n",
       "      <td>70.31</td>\n",
       "      <td>138.35</td>\n",
       "      <td>1</td>\n",
       "      <td>155.05</td>\n",
       "    </tr>\n",
       "    <tr>\n",
       "      <th>1</th>\n",
       "      <td>F</td>\n",
       "      <td>Single-ply</td>\n",
       "      <td>42.0</td>\n",
       "      <td>Mst 40-44</td>\n",
       "      <td>58.51</td>\n",
       "      <td>60</td>\n",
       "      <td>142.88</td>\n",
       "      <td>95.25</td>\n",
       "      <td>163.29</td>\n",
       "      <td>401.42</td>\n",
       "      <td>1</td>\n",
       "      <td>456.38</td>\n",
       "    </tr>\n",
       "    <tr>\n",
       "      <th>2</th>\n",
       "      <td>F</td>\n",
       "      <td>Single-ply</td>\n",
       "      <td>42.0</td>\n",
       "      <td>Open Senior</td>\n",
       "      <td>58.51</td>\n",
       "      <td>60</td>\n",
       "      <td>142.88</td>\n",
       "      <td>95.25</td>\n",
       "      <td>163.29</td>\n",
       "      <td>401.42</td>\n",
       "      <td>1</td>\n",
       "      <td>456.38</td>\n",
       "    </tr>\n",
       "    <tr>\n",
       "      <th>5</th>\n",
       "      <td>F</td>\n",
       "      <td>Wraps</td>\n",
       "      <td>28.0</td>\n",
       "      <td>Open Senior</td>\n",
       "      <td>62.41</td>\n",
       "      <td>67.5</td>\n",
       "      <td>170.10</td>\n",
       "      <td>77.11</td>\n",
       "      <td>145.15</td>\n",
       "      <td>392.36</td>\n",
       "      <td>1</td>\n",
       "      <td>424.40</td>\n",
       "    </tr>\n",
       "    <tr>\n",
       "      <th>6</th>\n",
       "      <td>F</td>\n",
       "      <td>Raw</td>\n",
       "      <td>60.0</td>\n",
       "      <td>Mst 60-64</td>\n",
       "      <td>67.31</td>\n",
       "      <td>67.5</td>\n",
       "      <td>124.74</td>\n",
       "      <td>95.25</td>\n",
       "      <td>163.29</td>\n",
       "      <td>383.28</td>\n",
       "      <td>1</td>\n",
       "      <td>391.98</td>\n",
       "    </tr>\n",
       "  </tbody>\n",
       "</table>\n",
       "</div>"
      ],
      "text/plain": [
       "  sex   equipment   age     division  bodyweightkg weightclasskg  bestsquatkg  \\\n",
       "0   F       Wraps  47.0    Mst 45-49         59.60            60        47.63   \n",
       "1   F  Single-ply  42.0    Mst 40-44         58.51            60       142.88   \n",
       "2   F  Single-ply  42.0  Open Senior         58.51            60       142.88   \n",
       "5   F       Wraps  28.0  Open Senior         62.41          67.5       170.10   \n",
       "6   F         Raw  60.0    Mst 60-64         67.31          67.5       124.74   \n",
       "\n",
       "   bestbenchkg  bestdeadliftkg  totalkg place   wilks  \n",
       "0        20.41           70.31   138.35     1  155.05  \n",
       "1        95.25          163.29   401.42     1  456.38  \n",
       "2        95.25          163.29   401.42     1  456.38  \n",
       "5        77.11          145.15   392.36     1  424.40  \n",
       "6        95.25          163.29   383.28     1  391.98  "
      ]
     },
     "execution_count": 5,
     "metadata": {},
     "output_type": "execute_result"
    }
   ],
   "source": [
    "powerlift.head()"
   ]
  },
  {
   "cell_type": "markdown",
   "metadata": {},
   "source": [
    "#### The dataset contains male and female data.  I will split these groups apart to mimic competition.  The data will also only consider adults ages 18 and older."
   ]
  },
  {
   "cell_type": "code",
   "execution_count": 6,
   "metadata": {},
   "outputs": [],
   "source": [
    "female_lifters = powerlift.loc[powerlift['sex'] == 'F']\n",
    "female_lifters = female_lifters[female_lifters['age'] >=18]\n",
    "male_lifters = powerlift.loc[powerlift['sex'] == 'M']\n",
    "male_lifters = male_lifters[male_lifters['age'] >=18]"
   ]
  },
  {
   "cell_type": "markdown",
   "metadata": {},
   "source": [
    "##### There are many unique divisions with only one data point so removed single data point divisions. There is nothing interesting to learn against a person competing only against themselves."
   ]
  },
  {
   "cell_type": "code",
   "execution_count": 7,
   "metadata": {},
   "outputs": [],
   "source": [
    "counts_male = male_lifters['division'].value_counts()\n",
    "counts_male[counts_male > 1]\n",
    "male_lifters = male_lifters[male_lifters['division'].isin(counts_male[counts_male > 500].index)]"
   ]
  },
  {
   "cell_type": "code",
   "execution_count": 8,
   "metadata": {},
   "outputs": [],
   "source": [
    "counts_female = female_lifters['division'].value_counts()\n",
    "counts_female[counts_female > 1]\n",
    "female_lifters = female_lifters[female_lifters['division'].isin(counts_female[counts_female > 500].index)]"
   ]
  },
  {
   "cell_type": "code",
   "execution_count": 9,
   "metadata": {},
   "outputs": [
    {
     "name": "stdout",
     "output_type": "stream",
     "text": [
      "['Open' 'Juniors' 'Open Women' 'Junior 20-23' 'Master 40-44' 'R-O' 'R-JR']\n",
      "(16594,)\n",
      "['Open' 'Junior' 'Submaster' 'M-O' 'M-OR' 'Juniors' 'Junior Men 20-23'\n",
      " 'Open Men' 'Junior 20-23' 'Submaster 35-39' 'Junior 18-19' 'Master 45-49'\n",
      " 'Master 40-44' 'MOR' 'R-O' 'R-JR' 'R-C']\n",
      "(41781,)\n"
     ]
    }
   ],
   "source": [
    "print(female_lifters.division.unique())\n",
    "print(female_lifters.division.shape)\n",
    "print(male_lifters.division.unique())\n",
    "print(male_lifters.division.shape)"
   ]
  },
  {
   "cell_type": "markdown",
   "metadata": {},
   "source": [
    "# Modeling"
   ]
  },
  {
   "cell_type": "code",
   "execution_count": 10,
   "metadata": {},
   "outputs": [
    {
     "data": {
      "text/html": [
       "<div>\n",
       "<style scoped>\n",
       "    .dataframe tbody tr th:only-of-type {\n",
       "        vertical-align: middle;\n",
       "    }\n",
       "\n",
       "    .dataframe tbody tr th {\n",
       "        vertical-align: top;\n",
       "    }\n",
       "\n",
       "    .dataframe thead th {\n",
       "        text-align: right;\n",
       "    }\n",
       "</style>\n",
       "<table border=\"1\" class=\"dataframe\">\n",
       "  <thead>\n",
       "    <tr style=\"text-align: right;\">\n",
       "      <th></th>\n",
       "      <th>sex</th>\n",
       "      <th>equipment</th>\n",
       "      <th>age</th>\n",
       "      <th>division</th>\n",
       "      <th>bodyweightkg</th>\n",
       "      <th>weightclasskg</th>\n",
       "      <th>bestsquatkg</th>\n",
       "      <th>bestbenchkg</th>\n",
       "      <th>bestdeadliftkg</th>\n",
       "      <th>totalkg</th>\n",
       "      <th>place</th>\n",
       "      <th>wilks</th>\n",
       "    </tr>\n",
       "  </thead>\n",
       "  <tbody>\n",
       "    <tr>\n",
       "      <th>0</th>\n",
       "      <td>F</td>\n",
       "      <td>Wraps</td>\n",
       "      <td>47.0</td>\n",
       "      <td>Mst 45-49</td>\n",
       "      <td>59.6</td>\n",
       "      <td>60</td>\n",
       "      <td>47.63</td>\n",
       "      <td>20.41</td>\n",
       "      <td>70.31</td>\n",
       "      <td>138.35</td>\n",
       "      <td>1</td>\n",
       "      <td>155.05</td>\n",
       "    </tr>\n",
       "  </tbody>\n",
       "</table>\n",
       "</div>"
      ],
      "text/plain": [
       "  sex equipment   age   division  bodyweightkg weightclasskg  bestsquatkg  \\\n",
       "0   F     Wraps  47.0  Mst 45-49          59.6            60        47.63   \n",
       "\n",
       "   bestbenchkg  bestdeadliftkg  totalkg place   wilks  \n",
       "0        20.41           70.31   138.35     1  155.05  "
      ]
     },
     "execution_count": 10,
     "metadata": {},
     "output_type": "execute_result"
    }
   ],
   "source": [
    "powerlift.head(1)"
   ]
  },
  {
   "cell_type": "code",
   "execution_count": 11,
   "metadata": {},
   "outputs": [],
   "source": [
    "fd1 = pd.get_dummies(female_lifters.equipment, prefix='equip', drop_first=True)\n",
    "fd2 = pd.get_dummies(female_lifters.division, prefix='div', drop_first=True)\n",
    "fd3 = pd.get_dummies(female_lifters.weightclasskg, prefix='weightclass', drop_first=True)"
   ]
  },
  {
   "cell_type": "markdown",
   "metadata": {},
   "source": [
    "### Created dummified data to perform analysis and gain insights into categorical or class data and concatanate it into a single dataframe.\n",
    "\n",
    "- **Equipment**: denoting if you use wrist wraps or other types of supports are examples as well as raw, which is no supports.\n",
    "- **Weight Class**: Although this is numberical, the scale is not always the same and there is no limit at the top of a class\n",
    "- **Division**: These are another classification of a powerlifter, typically they denote the qualification such as pro or amatuer and can also limit ages"
   ]
  },
  {
   "cell_type": "code",
   "execution_count": 12,
   "metadata": {},
   "outputs": [],
   "source": [
    "f_dummy = pd.concat([female_lifters, fd1,fd2,fd3], axis=1)"
   ]
  },
  {
   "cell_type": "markdown",
   "metadata": {},
   "source": [
    "**The following piece of code allows me to generate the list of columns to easily copy features to use in logisitcal regression analysis**"
   ]
  },
  {
   "cell_type": "code",
   "execution_count": 13,
   "metadata": {},
   "outputs": [],
   "source": [
    "list(f_dummy);"
   ]
  },
  {
   "cell_type": "markdown",
   "metadata": {},
   "source": [
    "# 1. Logistical Regression to Determine Weight Class\n",
    "\n",
    "The modeling in this section will first look a logistic regression to determine an athelet's weightclass.  Although this is not extremely interesting, it demonstrates the ability to classify data."
   ]
  },
  {
   "cell_type": "markdown",
   "metadata": {},
   "source": [
    "## Feature Selection\n",
    "After playing around with various features I decided to use all features exlcuding an athlete's weight, which for obvious reasons is perfectly correleated with weightclass."
   ]
  },
  {
   "cell_type": "code",
   "execution_count": 14,
   "metadata": {},
   "outputs": [],
   "source": [
    "f_feature = [\n",
    " 'age',\n",
    " 'bestsquatkg',\n",
    " 'bestbenchkg',\n",
    " 'bestdeadliftkg',\n",
    " 'totalkg',\n",
    " 'wilks',\n",
    " 'equip_Raw',\n",
    " 'equip_Single-ply',\n",
    " 'equip_Wraps',\n",
    " 'div_Juniors',\n",
    " 'div_Master 40-44',\n",
    " 'div_Open',\n",
    " 'div_Open Women',\n",
    " 'div_R-JR',\n",
    " 'div_R-O',\n",
    "]\n",
    "Xf = f_dummy[f_feature]\n",
    "yf = f_dummy.weightclasskg"
   ]
  },
  {
   "cell_type": "markdown",
   "metadata": {},
   "source": [
    "### Once features selected, I fit a multinomial logistic regression"
   ]
  },
  {
   "cell_type": "code",
   "execution_count": 15,
   "metadata": {},
   "outputs": [
    {
     "name": "stdout",
     "output_type": "stream",
     "text": [
      "Mean of Accuracy for all folds: 0.45492346631312525\n"
     ]
    }
   ],
   "source": [
    "kf = model_selection.KFold(n_splits=5, shuffle=True)\n",
    "f_LR = LogisticRegression(multi_class='multinomial', solver='sag')\n",
    "\n",
    "scores = []\n",
    "\n",
    "for train_index, test_index in kf.split(Xf, yf):\n",
    "    f_LR = LogisticRegression().fit(Xf.iloc[train_index], yf.iloc[train_index])\n",
    "    scores.append(f_LR.score(Xf, yf))\n",
    "\n",
    "print(f'Mean of Accuracy for all folds: {np.mean(scores)}')"
   ]
  },
  {
   "cell_type": "code",
   "execution_count": 16,
   "metadata": {},
   "outputs": [
    {
     "name": "stdout",
     "output_type": "stream",
     "text": [
      "Baseline: 14.15571893455466\n"
     ]
    }
   ],
   "source": [
    "print('Baseline:',(2349/16594)*100)"
   ]
  },
  {
   "cell_type": "markdown",
   "metadata": {},
   "source": [
    "**The model returned an accuracy of approximately 45%**\n",
    "\n",
    "The baseline model would return an accuracy of ~14% making the logistic regression much more accurate."
   ]
  },
  {
   "cell_type": "markdown",
   "metadata": {},
   "source": [
    "# 2. Linear Regression Model\n",
    "The linear regression is a model that could actually be used to assist an athlete in competition.  Given the rules of competition, an athlete's coach could use data of other competitors to determine how much weight you would want to attempt. \n",
    "\n",
    "During a powerlifting competition, you may not always be feeling your best and have the ability the achieve your training max.  With predictive insights you could potentially scale down or scale up to achieve a max if necessary giving an edge during the meet.\n",
    "\n",
    "The typical competition allows you attempt each lift three times.  The data in this set limited me to only the bestlift of all three lifts.  I would foresee an athelete being able to enter each lift to increasingly tune into the required lift needed to win a competition."
   ]
  },
  {
   "cell_type": "markdown",
   "metadata": {},
   "source": [
    "**The first step is to make a new dataframe of only one weightclass.  Athletes only compete against others in their own class, so data from other classes is void for this analysis.**\n",
    "\n",
    "- For this analysis, I will use 67.5kg weightclass since it had the most data points."
   ]
  },
  {
   "cell_type": "code",
   "execution_count": 17,
   "metadata": {},
   "outputs": [
    {
     "name": "stdout",
     "output_type": "stream",
     "text": [
      "(1849, 12)\n"
     ]
    },
    {
     "name": "stderr",
     "output_type": "stream",
     "text": [
      "C:\\Users\\596957\\AppData\\Local\\Continuum\\anaconda3\\lib\\site-packages\\pandas\\core\\generic.py:4401: SettingWithCopyWarning: \n",
      "A value is trying to be set on a copy of a slice from a DataFrame.\n",
      "Try using .loc[row_indexer,col_indexer] = value instead\n",
      "\n",
      "See the caveats in the documentation: http://pandas.pydata.org/pandas-docs/stable/indexing.html#indexing-view-versus-copy\n",
      "  self[name] = value\n"
     ]
    }
   ],
   "source": [
    "female_67raw = female_lifters\n",
    "female_67raw = female_67raw[female_67raw.place != 'G']\n",
    "female_67raw.place = female_67raw.place.astype(float)\n",
    "female_67raw = female_67raw[female_67raw['weightclasskg'] == '67.5']\n",
    "female_67raw = female_67raw[female_67raw['equipment'] == 'Raw']\n",
    "print(female_67raw.shape)"
   ]
  },
  {
   "cell_type": "code",
   "execution_count": 18,
   "metadata": {},
   "outputs": [
    {
     "data": {
      "text/html": [
       "<div>\n",
       "<style scoped>\n",
       "    .dataframe tbody tr th:only-of-type {\n",
       "        vertical-align: middle;\n",
       "    }\n",
       "\n",
       "    .dataframe tbody tr th {\n",
       "        vertical-align: top;\n",
       "    }\n",
       "\n",
       "    .dataframe thead th {\n",
       "        text-align: right;\n",
       "    }\n",
       "</style>\n",
       "<table border=\"1\" class=\"dataframe\">\n",
       "  <thead>\n",
       "    <tr style=\"text-align: right;\">\n",
       "      <th></th>\n",
       "      <th>sex</th>\n",
       "      <th>equipment</th>\n",
       "      <th>age</th>\n",
       "      <th>division</th>\n",
       "      <th>bodyweightkg</th>\n",
       "      <th>weightclasskg</th>\n",
       "      <th>bestsquatkg</th>\n",
       "      <th>bestbenchkg</th>\n",
       "      <th>bestdeadliftkg</th>\n",
       "      <th>totalkg</th>\n",
       "      <th>place</th>\n",
       "      <th>wilks</th>\n",
       "    </tr>\n",
       "  </thead>\n",
       "  <tbody>\n",
       "    <tr>\n",
       "      <th>369863</th>\n",
       "      <td>F</td>\n",
       "      <td>Raw</td>\n",
       "      <td>33.0</td>\n",
       "      <td>Open</td>\n",
       "      <td>65.6</td>\n",
       "      <td>67.5</td>\n",
       "      <td>97.5</td>\n",
       "      <td>50.0</td>\n",
       "      <td>160.0</td>\n",
       "      <td>307.5</td>\n",
       "      <td>3.0</td>\n",
       "      <td>320.420</td>\n",
       "    </tr>\n",
       "    <tr>\n",
       "      <th>347327</th>\n",
       "      <td>F</td>\n",
       "      <td>Raw</td>\n",
       "      <td>51.0</td>\n",
       "      <td>Open</td>\n",
       "      <td>65.3</td>\n",
       "      <td>67.5</td>\n",
       "      <td>122.5</td>\n",
       "      <td>80.0</td>\n",
       "      <td>130.0</td>\n",
       "      <td>332.5</td>\n",
       "      <td>1.0</td>\n",
       "      <td>347.641</td>\n",
       "    </tr>\n",
       "    <tr>\n",
       "      <th>369299</th>\n",
       "      <td>F</td>\n",
       "      <td>Raw</td>\n",
       "      <td>40.0</td>\n",
       "      <td>Master 40-44</td>\n",
       "      <td>63.0</td>\n",
       "      <td>67.5</td>\n",
       "      <td>75.0</td>\n",
       "      <td>35.0</td>\n",
       "      <td>87.5</td>\n",
       "      <td>197.5</td>\n",
       "      <td>1.0</td>\n",
       "      <td>212.110</td>\n",
       "    </tr>\n",
       "  </tbody>\n",
       "</table>\n",
       "</div>"
      ],
      "text/plain": [
       "       sex equipment   age      division  bodyweightkg weightclasskg  \\\n",
       "369863   F       Raw  33.0          Open          65.6          67.5   \n",
       "347327   F       Raw  51.0          Open          65.3          67.5   \n",
       "369299   F       Raw  40.0  Master 40-44          63.0          67.5   \n",
       "\n",
       "        bestsquatkg  bestbenchkg  bestdeadliftkg  totalkg  place    wilks  \n",
       "369863         97.5         50.0           160.0    307.5    3.0  320.420  \n",
       "347327        122.5         80.0           130.0    332.5    1.0  347.641  \n",
       "369299         75.0         35.0            87.5    197.5    1.0  212.110  "
      ]
     },
     "execution_count": 18,
     "metadata": {},
     "output_type": "execute_result"
    }
   ],
   "source": [
    "female_67raw.sample(n=3)"
   ]
  },
  {
   "cell_type": "markdown",
   "metadata": {},
   "source": [
    "**Model is fitted using 5 K-folds**"
   ]
  },
  {
   "cell_type": "markdown",
   "metadata": {},
   "source": [
    "## Break"
   ]
  },
  {
   "cell_type": "code",
   "execution_count": 19,
   "metadata": {},
   "outputs": [
    {
     "name": "stdout",
     "output_type": "stream",
     "text": [
      "~~Linear Regression~~\n",
      "Mean of MSE for all folds: 36.02518892788538\n",
      "Mean of R2 for all folds: 0.9888580535791716\n",
      "Baseline: 35.78879261733389\n"
     ]
    }
   ],
   "source": [
    "f_lr_feat1 = [\n",
    "    'bestsquatkg',\n",
    "    'wilks',\n",
    "    'age'\n",
    "]\n",
    "\n",
    "X1 = female_67raw[f_lr_feat1]\n",
    "y1 = female_67raw.totalkg\n",
    "\n",
    "kf1 = model_selection.KFold(n_splits=5, shuffle=True)\n",
    "\n",
    "mse_values1 = []\n",
    "scores1 = []\n",
    "\n",
    "for train_index1, test_index1 in kf1.split(X1, y1):\n",
    "    lr1 = LinearRegression().fit(X1.iloc[train_index1], y1.iloc[train_index1])\n",
    "    mse_values1.append(metrics.mean_squared_error(y1.iloc[test_index1], lr1.predict(X1.iloc[test_index1])))\n",
    "    scores1.append(lr1.score(X1, y1))\n",
    "\n",
    "print('~~Linear Regression~~')    \n",
    "print('Mean of MSE for all folds: {}'.format(np.mean(mse_values1)))\n",
    "print('Mean of R2 for all folds: {}'.format(np.mean(scores1)))\n",
    "\n",
    "# X_train, X_test, y_train, y_test = train_test_split(X, y, random_state=123)\n",
    "# linreg = LinearRegression()\n",
    "# linreg.fit(X_train, y_train)\n",
    "# y_pred = linreg.predict(X_test)\n",
    "# np.sqrt(metrics.mean_squared_error(y_test, y_pred))\n",
    "\n",
    "y1_pred = lr1.predict(X1)\n",
    "print('Baseline:',metrics.mean_squared_error(y1, y1_pred))"
   ]
  },
  {
   "cell_type": "markdown",
   "metadata": {},
   "source": [
    "**Random forest score**"
   ]
  },
  {
   "cell_type": "code",
   "execution_count": 20,
   "metadata": {},
   "outputs": [
    {
     "name": "stdout",
     "output_type": "stream",
     "text": [
      "MSE Random Forest: 6.554482242099394\n",
      "R^2 Random Forest: 0.9870717134969316\n",
      "(1386, 1)\n",
      "(1386, 2)\n",
      "Important Features MSE: 7.956978205249767\n"
     ]
    }
   ],
   "source": [
    "#Random Forest Model\n",
    "rfreg1 = RandomForestRegressor(n_estimators=150,\n",
    "                              max_features=3,\n",
    "                              oob_score=True)\n",
    "rfreg1.fit(X1, y1);\n",
    "\n",
    "#Random Forest Scoring Parameters\n",
    "kf_1rf = KFold(n_splits=10, shuffle=True)\n",
    "scores_1rf = cross_val_score(rfreg1, X1, y1, cv=kf, scoring='neg_mean_squared_error')\n",
    "print('MSE Random Forest:',np.mean(np.sqrt(-scores_1rf)))\n",
    "print('R^2 Random Forest:',(rfreg1.oob_score_))\n",
    "\n",
    "#train test split\n",
    "X1_train, X1_test, y1_train, y1_test = train_test_split(X1,y1)\n",
    "rfreg1 = RandomForestRegressor(n_estimators=150, max_features=3, oob_score=True)\n",
    "rfreg1.fit(X1_train, y1_train)\n",
    "\n",
    "# Set a threshold for which features to include.\n",
    "print(SelectFromModel(rfreg1, threshold='mean', prefit=True).transform(X1_train).shape)\n",
    "print(SelectFromModel(rfreg1, threshold='median', prefit=True).transform(X1_train).shape)\n",
    "\n",
    "# Create a new feature matrix that only includes important features.\n",
    "X1_important =  SelectFromModel(rfreg1, threshold='mean', prefit=True).transform(X1_test)\n",
    "\n",
    "# Check the RMSE for a random forest that only includes important features.\n",
    "rfreg1 = RandomForestRegressor(n_estimators=150, max_features=1)\n",
    "scores_rfreg1 = cross_val_score(rfreg1, X1_important, y1_test, cv=10, scoring='neg_mean_squared_error')\n",
    "print('Important Features MSE:',np.mean(np.sqrt(-scores_rfreg1)))"
   ]
  },
  {
   "cell_type": "markdown",
   "metadata": {},
   "source": [
    "## Break"
   ]
  },
  {
   "cell_type": "code",
   "execution_count": 21,
   "metadata": {},
   "outputs": [
    {
     "name": "stdout",
     "output_type": "stream",
     "text": [
      "~~Linear Regression~~\n",
      "Mean of MSE for all folds: 33.7352354706497\n",
      "Mean of R2 for all folds: 0.9895480511650809\n",
      "Baseline: 33.581563722097634\n"
     ]
    }
   ],
   "source": [
    "lr2 = LinearRegression()\n",
    "f_lr_feat2 = [\n",
    "    'bestsquatkg',\n",
    "    'wilks',\n",
    "    'age',\n",
    "    'bestbenchkg'\n",
    "]\n",
    "\n",
    "X2 = female_67raw[f_lr_feat2]\n",
    "y2 = female_67raw.totalkg\n",
    "\n",
    "kf2 = model_selection.KFold(n_splits=5, shuffle=True)\n",
    "\n",
    "mse_values2 = []\n",
    "scores2 = []\n",
    "\n",
    "for train_index2, test_index2 in kf2.split(X2, y2):\n",
    "    lr2 = LinearRegression().fit(X2.iloc[train_index2], y2.iloc[train_index2])\n",
    "    mse_values2.append(metrics.mean_squared_error(y2.iloc[test_index2], lr2.predict(X2.iloc[test_index2])))\n",
    "    scores2.append(lr2.score(X2, y2))\n",
    "    \n",
    "print('~~Linear Regression~~')    \n",
    "print('Mean of MSE for all folds: {}'.format(np.mean(mse_values2)))\n",
    "print('Mean of R2 for all folds: {}'.format(np.mean(scores2)))\n",
    "\n",
    "y2_pred = lr2.predict(X2)\n",
    "print('Baseline:',metrics.mean_squared_error(y2, y2_pred))"
   ]
  },
  {
   "cell_type": "code",
   "execution_count": 22,
   "metadata": {},
   "outputs": [
    {
     "name": "stdout",
     "output_type": "stream",
     "text": [
      "~~Random Forest~~\n",
      "MSE Random Forest: 6.371469254145849\n",
      "R^2 Random Forest: 0.9878553000990234\n",
      "(1386, 1)\n",
      "(1386, 2)\n",
      "Important Features MSE: 8.417412252903407\n"
     ]
    }
   ],
   "source": [
    "print('~~Random Forest~~')\n",
    "#Random Forest Model\n",
    "rfreg2 = RandomForestRegressor(n_estimators=150,\n",
    "                              max_features=4,\n",
    "                              oob_score=True)\n",
    "rfreg2.fit(X2, y2);\n",
    "\n",
    "#Random Forest Scoring Parameters\n",
    "kf_2rf = KFold(n_splits=10, shuffle=True)\n",
    "scores_2rf = cross_val_score(rfreg2, X2, y2, cv=kf, scoring='neg_mean_squared_error')\n",
    "print('MSE Random Forest:',np.mean(np.sqrt(-scores_2rf)))\n",
    "print('R^2 Random Forest:',(rfreg2.oob_score_))\n",
    "\n",
    "#train test split\n",
    "X2_train, X2_test, y2_train, y2_test = train_test_split(X2,y2)\n",
    "rfreg2 = RandomForestRegressor(n_estimators=150, max_features=4, oob_score=True)\n",
    "rfreg2.fit(X2_train, y2_train)\n",
    "\n",
    "# Set a threshold for which features to include.\n",
    "print(SelectFromModel(rfreg2, threshold='mean', prefit=True).transform(X2_train).shape)\n",
    "print(SelectFromModel(rfreg2, threshold='median', prefit=True).transform(X2_train).shape)\n",
    "\n",
    "# Create a new feature matrix that only includes important features.\n",
    "X2_important = SelectFromModel(rfreg2, threshold='mean', prefit=True).transform(X2_test)\n",
    "\n",
    "# Check the RMSE for a random forest that only includes important features.\n",
    "rfreg2 = RandomForestRegressor(n_estimators=150, max_features=1)\n",
    "scores_rfreg2 = cross_val_score(rfreg2, X2_important, y2_test, cv=10, scoring='neg_mean_squared_error')\n",
    "print('Important Features MSE:',np.mean(np.sqrt(-scores_rfreg2)))"
   ]
  }
 ],
 "metadata": {
  "kernelspec": {
   "display_name": "Python 3",
   "language": "python",
   "name": "python3"
  },
  "language_info": {
   "codemirror_mode": {
    "name": "ipython",
    "version": 3
   },
   "file_extension": ".py",
   "mimetype": "text/x-python",
   "name": "python",
   "nbconvert_exporter": "python",
   "pygments_lexer": "ipython3",
   "version": "3.6.5"
  }
 },
 "nbformat": 4,
 "nbformat_minor": 2
}
