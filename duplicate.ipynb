{
 "cells": [
  {
   "cell_type": "markdown",
   "metadata": {},
   "source": [
    "# Modeling for Powerlifting Dataset"
   ]
  },
  {
   "cell_type": "markdown",
   "metadata": {},
   "source": [
    "The cells below read in the data and import the libraries to assist with the analysis."
   ]
  },
  {
   "cell_type": "code",
   "execution_count": 1,
   "metadata": {},
   "outputs": [],
   "source": [
    "import numpy as np\n",
    "import pandas as pd\n",
    "import seaborn as sns\n",
    "import matplotlib.pyplot as plt\n",
    "%matplotlib inline\n",
    "from sklearn.model_selection import train_test_split\n",
    "from sklearn.linear_model import LinearRegression\n",
    "from sklearn import metrics\n",
    "from sklearn.neighbors import KNeighborsClassifier\n",
    "from sklearn import model_selection\n",
    "from sklearn.model_selection import cross_val_score\n",
    "from sklearn.linear_model import LogisticRegression\n",
    "from sklearn.tree import DecisionTreeRegressor\n",
    "from sklearn.ensemble import RandomForestRegressor\n",
    "from sklearn.model_selection import KFold\n",
    "from sklearn.feature_selection import SelectFromModel"
   ]
  },
  {
   "cell_type": "code",
   "execution_count": 2,
   "metadata": {},
   "outputs": [],
   "source": [
    "data1 = './data_powerlifting/openpowerlifting.csv'\n",
    "data2 = './data_powerlifting/meets.csv'\n",
    "powerlift = pd.read_table(data1, sep=',')\n",
    "meets = pd.read_table(data2, sep=',')\n",
    "powerlift_meets = pd.merge(powerlift, meets)\n",
    "power = powerlift_meets"
   ]
  },
  {
   "cell_type": "markdown",
   "metadata": {},
   "source": [
    "The cell below repaces the names of the columns to be lowercase for easier coding during the analysis"
   ]
  },
  {
   "cell_type": "code",
   "execution_count": 3,
   "metadata": {},
   "outputs": [],
   "source": [
    "powerlift.rename(str.lower, axis='columns', inplace = True)"
   ]
  },
  {
   "cell_type": "code",
   "execution_count": 4,
   "metadata": {},
   "outputs": [
    {
     "data": {
      "text/plain": [
       "(105220, 11)"
      ]
     },
     "execution_count": 4,
     "metadata": {},
     "output_type": "execute_result"
    }
   ],
   "source": [
    "powerlift.drop(['squat4kg', 'bench4kg', 'deadlift4kg','meetid','name','division'], axis=1, inplace=True)\n",
    "powerlift.dropna(inplace=True)\n",
    "powerlift.shape"
   ]
  },
  {
   "cell_type": "markdown",
   "metadata": {},
   "source": [
    "**Removed all rows with missing data to clean up dataset**"
   ]
  },
  {
   "cell_type": "code",
   "execution_count": 5,
   "metadata": {},
   "outputs": [
    {
     "data": {
      "text/html": [
       "<div>\n",
       "<style scoped>\n",
       "    .dataframe tbody tr th:only-of-type {\n",
       "        vertical-align: middle;\n",
       "    }\n",
       "\n",
       "    .dataframe tbody tr th {\n",
       "        vertical-align: top;\n",
       "    }\n",
       "\n",
       "    .dataframe thead th {\n",
       "        text-align: right;\n",
       "    }\n",
       "</style>\n",
       "<table border=\"1\" class=\"dataframe\">\n",
       "  <thead>\n",
       "    <tr style=\"text-align: right;\">\n",
       "      <th></th>\n",
       "      <th>sex</th>\n",
       "      <th>equipment</th>\n",
       "      <th>age</th>\n",
       "      <th>bodyweightkg</th>\n",
       "      <th>weightclasskg</th>\n",
       "      <th>bestsquatkg</th>\n",
       "      <th>bestbenchkg</th>\n",
       "      <th>bestdeadliftkg</th>\n",
       "      <th>totalkg</th>\n",
       "      <th>place</th>\n",
       "      <th>wilks</th>\n",
       "    </tr>\n",
       "  </thead>\n",
       "  <tbody>\n",
       "    <tr>\n",
       "      <th>381271</th>\n",
       "      <td>F</td>\n",
       "      <td>Raw</td>\n",
       "      <td>32.0</td>\n",
       "      <td>67.5</td>\n",
       "      <td>67.5</td>\n",
       "      <td>92.99</td>\n",
       "      <td>61.23</td>\n",
       "      <td>111.13</td>\n",
       "      <td>265.35</td>\n",
       "      <td>2</td>\n",
       "      <td>270.82</td>\n",
       "    </tr>\n",
       "    <tr>\n",
       "      <th>49896</th>\n",
       "      <td>M</td>\n",
       "      <td>Wraps</td>\n",
       "      <td>24.0</td>\n",
       "      <td>115.8</td>\n",
       "      <td>125</td>\n",
       "      <td>245.00</td>\n",
       "      <td>160.00</td>\n",
       "      <td>265.00</td>\n",
       "      <td>670.00</td>\n",
       "      <td>6</td>\n",
       "      <td>388.59</td>\n",
       "    </tr>\n",
       "    <tr>\n",
       "      <th>385406</th>\n",
       "      <td>M</td>\n",
       "      <td>Wraps</td>\n",
       "      <td>37.0</td>\n",
       "      <td>106.7</td>\n",
       "      <td>110</td>\n",
       "      <td>230.00</td>\n",
       "      <td>150.00</td>\n",
       "      <td>250.00</td>\n",
       "      <td>630.00</td>\n",
       "      <td>2</td>\n",
       "      <td>374.39</td>\n",
       "    </tr>\n",
       "  </tbody>\n",
       "</table>\n",
       "</div>"
      ],
      "text/plain": [
       "       sex equipment   age  bodyweightkg weightclasskg  bestsquatkg  \\\n",
       "381271   F       Raw  32.0          67.5          67.5        92.99   \n",
       "49896    M     Wraps  24.0         115.8           125       245.00   \n",
       "385406   M     Wraps  37.0         106.7           110       230.00   \n",
       "\n",
       "        bestbenchkg  bestdeadliftkg  totalkg place   wilks  \n",
       "381271        61.23          111.13   265.35     2  270.82  \n",
       "49896        160.00          265.00   670.00     6  388.59  \n",
       "385406       150.00          250.00   630.00     2  374.39  "
      ]
     },
     "execution_count": 5,
     "metadata": {},
     "output_type": "execute_result"
    }
   ],
   "source": [
    "powerlift.sample(n=3)"
   ]
  },
  {
   "cell_type": "markdown",
   "metadata": {},
   "source": [
    "# Modeling"
   ]
  },
  {
   "cell_type": "code",
   "execution_count": 6,
   "metadata": {},
   "outputs": [
    {
     "data": {
      "text/html": [
       "<div>\n",
       "<style scoped>\n",
       "    .dataframe tbody tr th:only-of-type {\n",
       "        vertical-align: middle;\n",
       "    }\n",
       "\n",
       "    .dataframe tbody tr th {\n",
       "        vertical-align: top;\n",
       "    }\n",
       "\n",
       "    .dataframe thead th {\n",
       "        text-align: right;\n",
       "    }\n",
       "</style>\n",
       "<table border=\"1\" class=\"dataframe\">\n",
       "  <thead>\n",
       "    <tr style=\"text-align: right;\">\n",
       "      <th></th>\n",
       "      <th>sex</th>\n",
       "      <th>equipment</th>\n",
       "      <th>age</th>\n",
       "      <th>bodyweightkg</th>\n",
       "      <th>weightclasskg</th>\n",
       "      <th>bestsquatkg</th>\n",
       "      <th>bestbenchkg</th>\n",
       "      <th>bestdeadliftkg</th>\n",
       "      <th>totalkg</th>\n",
       "      <th>place</th>\n",
       "      <th>wilks</th>\n",
       "    </tr>\n",
       "  </thead>\n",
       "  <tbody>\n",
       "    <tr>\n",
       "      <th>0</th>\n",
       "      <td>F</td>\n",
       "      <td>Wraps</td>\n",
       "      <td>47.0</td>\n",
       "      <td>59.6</td>\n",
       "      <td>60</td>\n",
       "      <td>47.63</td>\n",
       "      <td>20.41</td>\n",
       "      <td>70.31</td>\n",
       "      <td>138.35</td>\n",
       "      <td>1</td>\n",
       "      <td>155.05</td>\n",
       "    </tr>\n",
       "  </tbody>\n",
       "</table>\n",
       "</div>"
      ],
      "text/plain": [
       "  sex equipment   age  bodyweightkg weightclasskg  bestsquatkg  bestbenchkg  \\\n",
       "0   F     Wraps  47.0          59.6            60        47.63        20.41   \n",
       "\n",
       "   bestdeadliftkg  totalkg place   wilks  \n",
       "0           70.31   138.35     1  155.05  "
      ]
     },
     "execution_count": 6,
     "metadata": {},
     "output_type": "execute_result"
    }
   ],
   "source": [
    "powerlift.head(1)"
   ]
  },
  {
   "cell_type": "code",
   "execution_count": 7,
   "metadata": {},
   "outputs": [],
   "source": [
    "fd1 = pd.get_dummies(powerlift.equipment, prefix='equip', drop_first=True)\n",
    "fd2 = pd.get_dummies(powerlift.weightclasskg, prefix='weightclass', drop_first=True)\n",
    "fd3 = pd.get_dummies(powerlift.sex, prefix='sex', drop_first=True)"
   ]
  },
  {
   "cell_type": "code",
   "execution_count": 8,
   "metadata": {},
   "outputs": [
    {
     "data": {
      "text/html": [
       "<div>\n",
       "<style scoped>\n",
       "    .dataframe tbody tr th:only-of-type {\n",
       "        vertical-align: middle;\n",
       "    }\n",
       "\n",
       "    .dataframe tbody tr th {\n",
       "        vertical-align: top;\n",
       "    }\n",
       "\n",
       "    .dataframe thead th {\n",
       "        text-align: right;\n",
       "    }\n",
       "</style>\n",
       "<table border=\"1\" class=\"dataframe\">\n",
       "  <thead>\n",
       "    <tr style=\"text-align: right;\">\n",
       "      <th></th>\n",
       "      <th>equip_Raw</th>\n",
       "      <th>equip_Single-ply</th>\n",
       "      <th>equip_Wraps</th>\n",
       "    </tr>\n",
       "  </thead>\n",
       "  <tbody>\n",
       "    <tr>\n",
       "      <th>0</th>\n",
       "      <td>0</td>\n",
       "      <td>0</td>\n",
       "      <td>1</td>\n",
       "    </tr>\n",
       "    <tr>\n",
       "      <th>1</th>\n",
       "      <td>0</td>\n",
       "      <td>1</td>\n",
       "      <td>0</td>\n",
       "    </tr>\n",
       "    <tr>\n",
       "      <th>2</th>\n",
       "      <td>0</td>\n",
       "      <td>1</td>\n",
       "      <td>0</td>\n",
       "    </tr>\n",
       "    <tr>\n",
       "      <th>5</th>\n",
       "      <td>0</td>\n",
       "      <td>0</td>\n",
       "      <td>1</td>\n",
       "    </tr>\n",
       "    <tr>\n",
       "      <th>6</th>\n",
       "      <td>1</td>\n",
       "      <td>0</td>\n",
       "      <td>0</td>\n",
       "    </tr>\n",
       "  </tbody>\n",
       "</table>\n",
       "</div>"
      ],
      "text/plain": [
       "   equip_Raw  equip_Single-ply  equip_Wraps\n",
       "0          0                 0            1\n",
       "1          0                 1            0\n",
       "2          0                 1            0\n",
       "5          0                 0            1\n",
       "6          1                 0            0"
      ]
     },
     "execution_count": 8,
     "metadata": {},
     "output_type": "execute_result"
    }
   ],
   "source": [
    "fd1.head()"
   ]
  },
  {
   "cell_type": "markdown",
   "metadata": {},
   "source": [
    "### Created dummified data to perform analysis and gain insights into categorical or class data and concatanate it into a single dataframe.\n",
    "\n",
    "- **Equipment**: denoting if you use wrist wraps or other types of supports are examples as well as raw, which is no supports.\n",
    "- **Weight Class**: Although this is numerical, the scale is not always the same and there is no limit at the top of a class\n",
    "- **Sex**"
   ]
  },
  {
   "cell_type": "code",
   "execution_count": 9,
   "metadata": {},
   "outputs": [
    {
     "data": {
      "text/plain": [
       "(105220, 59)"
      ]
     },
     "execution_count": 9,
     "metadata": {},
     "output_type": "execute_result"
    }
   ],
   "source": [
    "power_dummy = pd.concat([powerlift, fd1,fd2,fd3], axis=1)\n",
    "power_dummy.shape"
   ]
  },
  {
   "cell_type": "markdown",
   "metadata": {},
   "source": [
    "**The following piece of code allows me to generate the list of columns to easily copy features to use in logisitcal regression analysis**"
   ]
  },
  {
   "cell_type": "code",
   "execution_count": 10,
   "metadata": {},
   "outputs": [],
   "source": [
    "list(power_dummy);"
   ]
  },
  {
   "cell_type": "markdown",
   "metadata": {},
   "source": [
    "# 1. Logistical Regression to Determine Weight Class\n",
    "\n",
    "The modeling in this section will first look a logistic regression to determine an athlete's weightclass.  Although this is not extremely interesting, it demonstrates the ability to classify data."
   ]
  },
  {
   "cell_type": "markdown",
   "metadata": {},
   "source": [
    "## Feature Selection\n",
    "Using all features except for the athlete's weight, we will predict what weightclass an athlete will be in."
   ]
  },
  {
   "cell_type": "code",
   "execution_count": 19,
   "metadata": {},
   "outputs": [],
   "source": [
    "f_feature = [\n",
    "    'sex_M',\n",
    "    'age',\n",
    "    'totalkg',\n",
    "    'wilks',\n",
    "    'equip_Raw',\n",
    "    'equip_Single-ply',\n",
    "    'equip_Wraps',\n",
    "]\n",
    "    \n",
    "Xf = power_dummy[f_feature]\n",
    "yf = power_dummy.weightclasskg"
   ]
  },
  {
   "cell_type": "markdown",
   "metadata": {},
   "source": [
    "### Once features selected, I fit a multinomial logistic regression"
   ]
  },
  {
   "cell_type": "code",
   "execution_count": 20,
   "metadata": {},
   "outputs": [
    {
     "name": "stdout",
     "output_type": "stream",
     "text": [
      "Mean of Accuracy for all folds: 0.2891313438509789\n"
     ]
    }
   ],
   "source": [
    "kf = model_selection.KFold(n_splits=5, shuffle=True)\n",
    "f_LR = LogisticRegression(multi_class='multinomial', solver='sag')\n",
    "\n",
    "scores = []\n",
    "\n",
    "for train_index, test_index in kf.split(Xf, yf):\n",
    "    f_LR = LogisticRegression().fit(Xf.iloc[train_index], yf.iloc[train_index])\n",
    "    scores.append(f_LR.score(Xf, yf))\n",
    "\n",
    "print(f'Mean of Accuracy for all folds: {np.mean(scores)}')"
   ]
  },
  {
   "cell_type": "code",
   "execution_count": 13,
   "metadata": {},
   "outputs": [
    {
     "name": "stdout",
     "output_type": "stream",
     "text": [
      "Test Score: 0.2398023189507698\n"
     ]
    }
   ],
   "source": [
    "LR = LogisticRegression()\n",
    "Xf_train, Xf_test, yf_train, yf_test = train_test_split(Xf,yf)\n",
    "LR.fit(Xf_train,yf_train)\n",
    "yf_pred = LR.predict(Xf_test)\n",
    "print('Test Score:',LR.score(Xf_test, yf_test))"
   ]
  },
  {
   "cell_type": "markdown",
   "metadata": {},
   "source": [
    "**The accuracy of predicting weightclass of the model is ~31%**\n",
    "\n",
    "**The baseline prediction for this data is the 90kg class of 8.9% making the model much more predictive than baseline**"
   ]
  },
  {
   "cell_type": "code",
   "execution_count": 14,
   "metadata": {},
   "outputs": [],
   "source": [
    "power_dummy.weightclasskg.value_counts(normalize=True);"
   ]
  },
  {
   "cell_type": "markdown",
   "metadata": {},
   "source": [
    "### Next, I will look at the ability to predict the sex of an athlete based on an athlete's strength and other categorical data related to competition\n",
    "\n",
    "The cell below selects and defines the features as variables"
   ]
  },
  {
   "cell_type": "code",
   "execution_count": 15,
   "metadata": {},
   "outputs": [],
   "source": [
    "# s_feature = [\n",
    "#     'age',\n",
    "#     'bestsquatkg',\n",
    "#     'bestbenchkg',\n",
    "#     'bestdeadliftkg',\n",
    "#     'bodyweightkg',\n",
    "#     'totalkg',\n",
    "#     'wilks',\n",
    "#     'equip_Raw',\n",
    "#     'equip_Single-ply',\n",
    "#     'equip_Wraps',\n",
    "# ]\n",
    "    \n",
    "# Xs = power_dummy[s_feature]\n",
    "# ys = power_dummy.sex"
   ]
  },
  {
   "cell_type": "code",
   "execution_count": 16,
   "metadata": {},
   "outputs": [],
   "source": [
    "# kf_s = model_selection.KFold(n_splits=5, shuffle=True)\n",
    "# s_LR = LogisticRegression(multi_class='multinomial', solver='sag')\n",
    "\n",
    "# scores_s = []\n",
    "\n",
    "# for train_index1, test_index1 in kf.split(Xs, ys):\n",
    "#     s_LR = LogisticRegression().fit(Xs.iloc[train_index1], ys.iloc[train_index1])\n",
    "#     scores_s.append(s_LR.score(Xs, ys))\n",
    "\n",
    "# print(f'Mean of Accuracy for all folds: {np.mean(scores_s)}')"
   ]
  },
  {
   "cell_type": "code",
   "execution_count": 17,
   "metadata": {},
   "outputs": [],
   "source": [
    "# LR1 = LogisticRegression()\n",
    "# Xs_train, Xs_test, ys_train, ys_test = train_test_split(Xs,ys)\n",
    "# LR1.fit(Xs_train,ys_train)\n",
    "# ys_pred = LR1.predict(Xs_test)\n",
    "# print('Test Score:',LR1.score(Xs_test, ys_test))"
   ]
  },
  {
   "cell_type": "markdown",
   "metadata": {},
   "source": [
    "### The accuracy of this model is ~99% in its ability to predict sex compared to the\n",
    "### Baseline model score which is ~68% to classify sex"
   ]
  },
  {
   "cell_type": "code",
   "execution_count": 18,
   "metadata": {},
   "outputs": [
    {
     "data": {
      "text/plain": [
       "M    0.676487\n",
       "F    0.323513\n",
       "Name: sex, dtype: float64"
      ]
     },
     "execution_count": 18,
     "metadata": {},
     "output_type": "execute_result"
    }
   ],
   "source": [
    "power_dummy.sex.value_counts(normalize=True)"
   ]
  }
 ],
 "metadata": {
  "kernelspec": {
   "display_name": "Python 3",
   "language": "python",
   "name": "python3"
  },
  "language_info": {
   "codemirror_mode": {
    "name": "ipython",
    "version": 3
   },
   "file_extension": ".py",
   "mimetype": "text/x-python",
   "name": "python",
   "nbconvert_exporter": "python",
   "pygments_lexer": "ipython3",
   "version": "3.6.5"
  }
 },
 "nbformat": 4,
 "nbformat_minor": 2
}
